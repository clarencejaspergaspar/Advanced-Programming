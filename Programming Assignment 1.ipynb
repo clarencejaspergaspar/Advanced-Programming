{
 "cells": [
  {
   "cell_type": "markdown",
   "id": "068cadcd-3047-4186-b939-cfc7319addd1",
   "metadata": {},
   "source": [
    "Name: Clarence Jasper S. Gaspar\n",
    "Section: 2ECE-B"
   ]
  },
  {
   "cell_type": "markdown",
   "id": "62990db9-1bf1-433b-8e72-668310fc004f",
   "metadata": {},
   "source": [
    "EXPERIMENT 1: INTRODUCTION TO PYTHON PROGRAMMING"
   ]
  },
  {
   "cell_type": "code",
   "execution_count": null,
   "id": "b7802830-8a4b-443a-8bd6-5f21ddc7d5d2",
   "metadata": {},
   "outputs": [],
   "source": []
  },
  {
   "cell_type": "markdown",
   "id": "ee1dbcd2-dfeb-44e2-9ad4-a3c8ee0f2dc8",
   "metadata": {},
   "source": [
    "ALPHABET SOUP PROBLEM"
   ]
  },
  {
   "cell_type": "code",
   "execution_count": 1,
   "id": "1e22be6e-f41b-4656-83c5-72b3f9f2de15",
   "metadata": {},
   "outputs": [
    {
     "name": "stdout",
     "output_type": "stream",
     "text": [
      "Alphabet Arranger - Enter words to sort out its letters (starting from a to z)\n",
      "\n"
     ]
    },
    {
     "name": "stdin",
     "output_type": "stream",
     "text": [
      "Enter words:  asdfghjkl\n"
     ]
    },
    {
     "name": "stdout",
     "output_type": "stream",
     "text": [
      "Arranged letters:  adfghjkls\n"
     ]
    }
   ],
   "source": [
    "def arrange(character): #Declare a function that arranges the letter of a string in an alphabetical order\n",
    "    return ''.join(sorted(character)) #By using sorted, it can easily sort out the letters and combines them back using join\n",
    "\n",
    "print(\"Alphabet Arranger - Enter words to sort out its letters (starting from a to z)\\n\")\n",
    "Words = input(\"Enter words: \") #The user is asked to input words to be arranged\n",
    "print(\"Arranged letters: \", arrange(Words)) #After declaring the function and having the string from the user's input, it is called or it used to execute whatever is its function"
   ]
  },
  {
   "cell_type": "code",
   "execution_count": null,
   "id": "1a4e6d00-24af-4c6d-b96d-2b2dcecdd6ec",
   "metadata": {},
   "outputs": [],
   "source": []
  },
  {
   "cell_type": "code",
   "execution_count": null,
   "id": "d84ceaf3-c3de-475b-b6dc-9ac008f3a8f2",
   "metadata": {},
   "outputs": [],
   "source": []
  },
  {
   "cell_type": "markdown",
   "id": "1c3678f0-3313-4cb8-bafb-1fa9da892c3b",
   "metadata": {},
   "source": [
    "EMOTICON PROBLEM"
   ]
  },
  {
   "cell_type": "code",
   "execution_count": 3,
   "id": "1dd9b889-1e05-40de-81e5-ad0c80eb8cd2",
   "metadata": {},
   "outputs": [
    {
     "name": "stdout",
     "output_type": "stream",
     "text": [
      "Emoticon Converter - lets you convert certain words (smile, grin, sad, and mad) into emoticons.\n",
      "\n",
      "Example: I am sad\n",
      "Result:  I am :((\n",
      "\n",
      "Your turn!!\n"
     ]
    },
    {
     "name": "stdin",
     "output_type": "stream",
     "text": [
      " Enter your sentence:  That person makes me smile\n"
     ]
    },
    {
     "name": "stdout",
     "output_type": "stream",
     "text": [
      "Output:  That person makes me :)\n"
     ]
    }
   ],
   "source": [
    "def convert(sentence): #Declare a function that converts certain words/strings into emoticons\n",
    "    emoticons = {\"smile\": \":)\", \"grin\": \":D\", \"sad\": \":((\", \"mad\": \">:(\"} #Use Dictionary to contain the indicated value for conversion  \n",
    "    words = sentence.split()  #split each words into separate ones\n",
    "    for i in range(len(words)): # Go through each word in the list\n",
    "        if words[i].lower() in emoticons:   # Check if the word exists in the dictionary\n",
    "            words[i] = emoticons[words[i].lower()]  # Replace the word with its matching emoticon\n",
    "    return \" \".join(words) #Join the words back into the sentence with the emoticon\n",
    "\n",
    "print(\"Emoticon Converter - lets you convert certain words (smile, grin, sad, and mad) into emoticons.\\n\") #Some description/instruction/example\n",
    "print(\"Example: I am sad\")\n",
    "Example = \"I am sad\"\n",
    "print(\"Result: \", convert(Example))\n",
    "\n",
    "print(\"\\nYour turn!!\")\n",
    "Sample = input(\" Enter your sentence: \") #The user inputs the sentence that will be converted\n",
    "print(\"Output: \", convert(Sample)) #Using the function that was defined and declared in print() to see the converted output\n",
    "    "
   ]
  },
  {
   "cell_type": "code",
   "execution_count": null,
   "id": "a4d2bed5-8f2d-42a8-bb11-1dbade1aab01",
   "metadata": {},
   "outputs": [],
   "source": []
  },
  {
   "cell_type": "code",
   "execution_count": null,
   "id": "22874cd8-fb25-4a07-b0c3-f8f5a2e5460c",
   "metadata": {},
   "outputs": [],
   "source": []
  },
  {
   "cell_type": "markdown",
   "id": "34424972-1cb7-46c9-8d93-f710d1ccff30",
   "metadata": {},
   "source": [
    "UNPACKING LIST PROBLEM"
   ]
  },
  {
   "cell_type": "code",
   "execution_count": 4,
   "id": "46d8bfec-1704-4367-a722-951b59db0d34",
   "metadata": {},
   "outputs": [
    {
     "name": "stdout",
     "output_type": "stream",
     "text": [
      "Lists of numbers that will be classified based on their placement\n",
      "\n",
      "first: 1\n",
      "middle: [2, 3, 4, 5]\n",
      "last: 6\n"
     ]
    }
   ],
   "source": [
    "list = [1, 2, 3, 4, 5, 6] #The given is a list with numbers\n",
    "\n",
    "first = list[0]         #Get the elements using its index which starts with zero      \n",
    "middle = list[1:-1]  #Set the parameters for the middle portion(from the second to the second to the last)\n",
    "last = list[-1]    #Get the last element \n",
    "\n",
    "print(\"Lists of numbers that will be classified based on their placement\\n\")\n",
    "print(\"first:\", first)  #The output will be displayed using print()\n",
    "print(\"middle:\", middle)\n",
    "print(\"last:\", last)"
   ]
  },
  {
   "cell_type": "code",
   "execution_count": null,
   "id": "5952cb31-a687-4515-9de2-36c2ab472354",
   "metadata": {},
   "outputs": [],
   "source": []
  },
  {
   "cell_type": "code",
   "execution_count": null,
   "id": "30554837-ab86-4f9f-91c0-5706cae76e0f",
   "metadata": {},
   "outputs": [],
   "source": []
  }
 ],
 "metadata": {
  "kernelspec": {
   "display_name": "Python [conda env:base] *",
   "language": "python",
   "name": "conda-base-py"
  },
  "language_info": {
   "codemirror_mode": {
    "name": "ipython",
    "version": 3
   },
   "file_extension": ".py",
   "mimetype": "text/x-python",
   "name": "python",
   "nbconvert_exporter": "python",
   "pygments_lexer": "ipython3",
   "version": "3.13.5"
  }
 },
 "nbformat": 4,
 "nbformat_minor": 5
}
